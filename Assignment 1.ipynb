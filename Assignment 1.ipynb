{
  "nbformat": 4,
  "nbformat_minor": 0,
  "metadata": {
    "colab": {
      "name": "Untitled1.ipynb",
      "provenance": [],
      "collapsed_sections": []
    },
    "kernelspec": {
      "name": "python3",
      "display_name": "Python 3"
    },
    "language_info": {
      "name": "python"
    }
  },
  "cells": [
    {
      "cell_type": "markdown",
      "metadata": {
        "id": "8cH-vmK18Szr"
      },
      "source": [
        "**NAME : Yogesh Machindra Chavan**"
      ]
    },
    {
      "cell_type": "markdown",
      "metadata": {
        "id": "OLGFtUc5JY6N"
      },
      "source": [
        "**EMAIL : chavanyogesh236@gmail.com**"
      ]
    },
    {
      "cell_type": "markdown",
      "metadata": {
        "id": "ZEWgdHURJhXf"
      },
      "source": [
        "**CONTACT : 9921833653**"
      ]
    },
    {
      "cell_type": "markdown",
      "metadata": {
        "id": "yd6F8X4V8xX5"
      },
      "source": [
        "**Q1**"
      ]
    },
    {
      "cell_type": "code",
      "metadata": {
        "colab": {
          "base_uri": "https://localhost:8080/"
        },
        "id": "F9dXD2Fr8z7s",
        "outputId": "425d54e1-8b13-4cd0-c3f6-8373d5980b43"
      },
      "source": [
        "salary = int(input('enter your salary :'))\n",
        "duration = int(input(\"please enter your experience :\"))\n",
        "if  duration > 5:\n",
        "    bonus = (salary*5)/100\n",
        "    print (bonus)\n",
        "else:\n",
        "    print(\"you are not eligible\")"
      ],
      "execution_count": 1,
      "outputs": [
        {
          "output_type": "stream",
          "name": "stdout",
          "text": [
            "enter your salary :5000\n",
            "please enter your experience :10\n",
            "250.0\n"
          ]
        }
      ]
    },
    {
      "cell_type": "markdown",
      "metadata": {
        "id": "J4Qzfs2T9TVu"
      },
      "source": [
        "**Q2**"
      ]
    },
    {
      "cell_type": "code",
      "metadata": {
        "colab": {
          "base_uri": "https://localhost:8080/"
        },
        "id": "MfF6uGzj9eMm",
        "outputId": "ebee19b4-75e9-4fb5-b6b3-853bb3ff9f5a"
      },
      "source": [
        "marks = float(input(\"enter your marks :\"))\n",
        "if marks < 25:\n",
        "    print('your grade is F')\n",
        "if 25<=marks<45:\n",
        "    print('your grade is E')\n",
        "if 45<=marks<50:\n",
        "    print('your garde is D')\n",
        "if 50<=marks<60:\n",
        "    print('your grade is C')\n",
        "if 80<marks:\n",
        "    print('your grade is A')"
      ],
      "execution_count": 3,
      "outputs": [
        {
          "output_type": "stream",
          "name": "stdout",
          "text": [
            "enter your marks :40\n",
            "your grade is E\n"
          ]
        }
      ]
    },
    {
      "cell_type": "markdown",
      "metadata": {
        "id": "LsKqd5Pu94xF"
      },
      "source": [
        "**Q3**"
      ]
    },
    {
      "cell_type": "code",
      "metadata": {
        "colab": {
          "base_uri": "https://localhost:8080/"
        },
        "id": "lLiMDAAN99k_",
        "outputId": "d18fc6b8-2b9c-4d7e-e5d3-ce9b651dddaa"
      },
      "source": [
        "classes_held = int(input('enter number classes helded : '))\n",
        "classes_attended = int(input('enter the number of classes held : '))\n",
        "attendence = (classes_attended/classes_held)*100\n",
        "print (attendence)\n",
        "if attendence<75:\n",
        "    print('your not elgible for exam')"
      ],
      "execution_count": 5,
      "outputs": [
        {
          "output_type": "stream",
          "name": "stdout",
          "text": [
            "enter number classes helded : 20\n",
            "enter the number of classes held : 15\n",
            "75.0\n"
          ]
        }
      ]
    },
    {
      "cell_type": "markdown",
      "metadata": {
        "id": "RlgG88I0-1Z9"
      },
      "source": [
        "**Q4**"
      ]
    },
    {
      "cell_type": "code",
      "metadata": {
        "colab": {
          "base_uri": "https://localhost:8080/"
        },
        "id": "kROsch2dA-AG",
        "outputId": "958a0a72-f4c6-4452-b819-d0ac912897fa"
      },
      "source": [
        "age = int(input('enter your age : '))\n",
        "sex = (input('enter your sex (M or F) :'))\n",
        "marriage_status = (input('enter your marriage status (Y or N) :'))\n",
        "if sex == 'F':\n",
        "    \n",
        "    print(\"she will work only one in urban area\")\n",
        "if sex == 'M' and 20 < age < 40:\n",
        "    print('you can work anywhere')\n",
        "if sex =='M' and 40 < age <=60:\n",
        "    print(\"you can work in urban area\")\n",
        "else:\n",
        "    print ('error')"
      ],
      "execution_count": 15,
      "outputs": [
        {
          "output_type": "stream",
          "name": "stdout",
          "text": [
            "enter your age : 23\n",
            "enter your sex (M or F) :M\n",
            "enter your marriage status (Y or N) :N\n",
            "you can work anywhere\n",
            "error\n"
          ]
        }
      ]
    },
    {
      "cell_type": "markdown",
      "metadata": {
        "id": "qgvydOxyBdwi"
      },
      "source": [
        "**Q5**"
      ]
    },
    {
      "cell_type": "code",
      "metadata": {
        "colab": {
          "base_uri": "https://localhost:8080/"
        },
        "id": "lUkXY2-ABhh8",
        "outputId": "21eacea2-ffa6-4b1a-cc86-6829e594e6b5"
      },
      "source": [
        "sum =0\n",
        "print (\"enter 10 integer\") \n",
        "for i in range(10):\n",
        "    number = int(input())\n",
        "    sum = sum + number\n",
        "average = sum / 10\n",
        "print (f'average of 10 integer {average}')"
      ],
      "execution_count": 17,
      "outputs": [
        {
          "output_type": "stream",
          "name": "stdout",
          "text": [
            "enter 10 integer\n",
            "0\n",
            "1\n",
            "2\n",
            "3\n",
            "4\n",
            "5\n",
            "6\n",
            "7\n",
            "8\n",
            "9\n",
            "average of 10 integer 4.5\n"
          ]
        }
      ]
    },
    {
      "cell_type": "markdown",
      "metadata": {
        "id": "hnAGbirMCHXI"
      },
      "source": [
        "**Q6**"
      ]
    },
    {
      "cell_type": "code",
      "metadata": {
        "colab": {
          "base_uri": "https://localhost:8080/"
        },
        "id": "rtUuU045CNZE",
        "outputId": "6d039a1e-f897-47ac-cf34-77922588601d"
      },
      "source": [
        "number = int(input('enter the number :'))\n",
        "factorial = 1\n",
        "for i in range(1, number+1):\n",
        "    factorial = factorial*i\n",
        "print(f'factorial of the number is {factorial}')"
      ],
      "execution_count": 19,
      "outputs": [
        {
          "output_type": "stream",
          "name": "stdout",
          "text": [
            "enter the number :9\n",
            "factorial of the number is 362880\n"
          ]
        }
      ]
    },
    {
      "cell_type": "markdown",
      "metadata": {
        "id": "z28wmNdCCaat"
      },
      "source": [
        "**Q7**"
      ]
    },
    {
      "cell_type": "code",
      "metadata": {
        "colab": {
          "base_uri": "https://localhost:8080/"
        },
        "id": "4GV8_TfxCeh_",
        "outputId": "bc7eed32-4c18-4ecb-8172-6c93cfecbedf"
      },
      "source": [
        "sum = 0\n",
        "count = 0\n",
        "print (\"enter integers :\")\n",
        "for i in range(1,1000):\n",
        "    number = int(input())\n",
        "    sum = sum + number\n",
        "    count = count + 1\n",
        "    average = sum / 10\n",
        "    quit = input(\"do you want to quit (if you press'q'):\")\n",
        "    if quit == 'q' :\n",
        "        break\n",
        "average = sum/count\n",
        "print (f'average of integer {average}')"
      ],
      "execution_count": 20,
      "outputs": [
        {
          "output_type": "stream",
          "name": "stdout",
          "text": [
            "enter integers :\n",
            "1\n",
            "do you want to quit (if you press'q'):P\n",
            "2\n",
            "do you want to quit (if you press'q'):P\n",
            "3\n",
            "do you want to quit (if you press'q'):Q\n",
            "4\n",
            "do you want to quit (if you press'q'):q\n",
            "average of integer 2.5\n"
          ]
        }
      ]
    },
    {
      "cell_type": "markdown",
      "metadata": {
        "id": "BoXnkIeQC-wN"
      },
      "source": [
        "**Q8**"
      ]
    },
    {
      "cell_type": "code",
      "metadata": {
        "colab": {
          "base_uri": "https://localhost:8080/"
        },
        "id": "4UVuQ-R6DBcr",
        "outputId": "d8db91d7-c5bb-4437-9234-f1f92c13392d"
      },
      "source": [
        "print ('amstrong number is between 100 to 500 are \\n')\n",
        "for i in range (100,500):\n",
        "    a= i % 10\n",
        "    ba = i // 10\n",
        "    b = ba % 10\n",
        "    c = ba // 10\n",
        "    sum_cube = (a*a*a)+(b*b*b)+(c*c*c)\n",
        "    if i == sum_cube:\n",
        "        print(i)"
      ],
      "execution_count": 21,
      "outputs": [
        {
          "output_type": "stream",
          "name": "stdout",
          "text": [
            "amstrong number is between 100 to 500 are \n",
            "\n",
            "153\n",
            "370\n",
            "371\n",
            "407\n"
          ]
        }
      ]
    },
    {
      "cell_type": "markdown",
      "metadata": {
        "id": "UdHpqXS2DKYD"
      },
      "source": [
        "**Q9**"
      ]
    },
    {
      "cell_type": "code",
      "metadata": {
        "colab": {
          "base_uri": "https://localhost:8080/"
        },
        "id": "7j3H1HuyDMhB",
        "outputId": "056ca3ae-ed26-4ea2-a5d0-d3dd42f1e1b6"
      },
      "source": [
        "x = ('refrigrator')\n",
        "print(\"length of string 'refrigrator' is :\")\n",
        "count = 0\n",
        "for i in x:\n",
        "    count = count +1\n",
        "print(count)"
      ],
      "execution_count": 22,
      "outputs": [
        {
          "output_type": "stream",
          "name": "stdout",
          "text": [
            "length of string 'refrigrator' is :\n",
            "11\n"
          ]
        }
      ]
    },
    {
      "cell_type": "markdown",
      "metadata": {
        "id": "MJ7PMsr9ECnm"
      },
      "source": [
        "**Q10**"
      ]
    },
    {
      "cell_type": "code",
      "metadata": {
        "colab": {
          "base_uri": "https://localhost:8080/"
        },
        "id": "eN8liJeqEE_D",
        "outputId": "492a9afd-d441-46ff-f3f9-c64d9e0303f0"
      },
      "source": [
        "print('enter your name : ')\n",
        "name = input()\n",
        "size = len(name)\n",
        "count = 0\n",
        "for i in range(size):\n",
        "    first = name[0]\n",
        "    if name[i] == ' ':\n",
        "        middle = name[i+1]\n",
        "        a = i+1\n",
        "        break\n",
        "for j in range(a, size):\n",
        "    if name[j] == ' ':\n",
        "        last = name[j+1:size]\n",
        "        break\n",
        "print(f'your name is {first}, {middle}, {last}')"
      ],
      "execution_count": 23,
      "outputs": [
        {
          "output_type": "stream",
          "name": "stdout",
          "text": [
            "enter your name : \n",
            "Yogesh Machindra Chavan\n",
            "your name is Y, M, Chavan\n"
          ]
        }
      ]
    }
  ]
}